{
 "metadata": {
  "kernelspec": {
   "display_name": "Streamlit Notebook",
   "name": "streamlit"
  }
 },
 "nbformat_minor": 5,
 "nbformat": 4,
 "cells": [
  {
   "cell_type": "markdown",
   "id": "ea7b6f16-bd9a-4dff-8f62-8e84fbc63bbf",
   "metadata": {
    "name": "cell6",
    "collapsed": false,
    "resultHeight": 102
   },
   "source": "## Snowflake notebook\n\n**Goal:** Creates tables, test data, and inserts that test data into one of the tables"
  },
  {
   "cell_type": "code",
   "id": "e5d62e84-6ec3-4eaa-9527-58f1661bb192",
   "metadata": {
    "language": "sql",
    "name": "cell9",
    "resultHeight": 112
   },
   "outputs": [],
   "source": "CREATE OR REPLACE TABLE all_workouts (\n    workout_id INT AUTOINCREMENT PRIMARY KEY, -- Unique identifier for each workout\n    workout_name VARCHAR(100),               -- Name of the workout\n    workout_type VARCHAR(50),                -- Type of the workout (e.g., cardio, HIIT)\n    trainer_name VARCHAR(50)                 -- Trainer associated with the workout\n);\n\n-- Insert dummy data\nINSERT INTO all_workouts (workout_name, workout_type, trainer_name) VALUES\n('Cardio Blast', 'Cardio', 'Tony Horton'),\n('HIIT Burnout', 'HIIT', 'Tony Horton'),\n('Strength Circuit', 'Strength', 'Tony Horton'),\n('Endurance Max', 'Endurance', 'Tony Horton'),\n('Hypertrophy Builder', 'Hypertrophy', 'Jackson Bloor'),\n('Stretch and Recover', 'Stretching', 'Jackson Bloor'),\n('HIIT Power', 'HIIT', 'Jackson Bloor'),\n('Functional Fitness', 'Strength', 'Jackson Bloor'),\n('Muscle Growth Focus', 'Hypertrophy', 'Sagi Kalev'),\n('Ultimate Flexibility', 'Stretching', 'Sagi Kalev');\n\n\n--\n\n",
   "execution_count": null
  },
  {
   "cell_type": "code",
   "id": "5a470096-4f9f-4898-91a0-747bf0bd8e87",
   "metadata": {
    "language": "sql",
    "name": "cell2",
    "collapsed": false,
    "resultHeight": 112
   },
   "outputs": [],
   "source": "CREATE OR REPLACE TABLE WORKOUT_DETAILS (\n    exercise_id INT,\n    workout_id INT,\n    exercise_name STRING,\n    exercise_description STRING,\n    critical_exercise_selection BOOLEAN,\n    exercise_classification STRING,\n    strength BOOLEAN,\n    endurance BOOLEAN,\n    flexibility BOOLEAN,\n    balance BOOLEAN,\n    cardio BOOLEAN,\n    power BOOLEAN,\n    primary_movement BOOLEAN,\n    current_row BOOLEAN,\n    from_date TIMESTAMP,\n    to_date TIMESTAMP,\n    profiled_by STRING\n)",
   "execution_count": null
  },
  {
   "cell_type": "markdown",
   "id": "d6c5ddfd-d3e8-40de-881c-c81a6c9993f3",
   "metadata": {
    "name": "cell7",
    "collapsed": false,
    "resultHeight": 60
   },
   "source": "## now we create some test data and put it in a pandas df"
  },
  {
   "cell_type": "code",
   "id": "c695373e-ac74-4b62-a1f1-08206cbd5c81",
   "metadata": {
    "language": "python",
    "name": "cell1",
    "resultHeight": 172,
    "collapsed": false
   },
   "source": "import pandas as pd\nimport random\nfrom datetime import datetime, timedelta\n\n# Step 2: Generate Test Data\ndef generate_exercise_data(workout_id, num_exercises, critical_range, primary_movements, instructor_name):\n    exercises = []\n    current_date = datetime.now()\n    workout_start_date = current_date - timedelta(days=random.randint(10, 60))\n    exercise_names = [\n        \"Squats\", \"Push-ups\", \"Deadlifts\", \"Bench Press\", \"Plank Holds\", \"Lunges\",\n        \"Dumbbell Rows\", \"Overhead Press\", \"Burpees\", \"Mountain Climbers\", \"Jumping Jacks\",\n        \"Bicep Curls\", \"Tricep Dips\", \"Pull-ups\", \"Leg Press\", \"Cable Flys\"\n    ]\n    classifications = [\"Legs\", \"Chest\", \"Arms\", \"Back\", \"Cardio\", \"Bodyweight\"]\n    dimensions = [\"strength\", \"endurance\", \"flexibility\", \"balance\", \"cardio\", \"power\"]\n    \n    for i in range(1, num_exercises + 1):\n        exercise_id = (workout_id - 1) * 10 + i  # Unique ID logic\n        exercise_name = random.choice(exercise_names)\n        exercise_desc = f\"{random.randint(3, 5)} sets of {random.randint(8, 15)} reps.\"\n        is_critical = random.choice([True] * critical_range + [False] * (10 - critical_range))\n        classification = random.choice(classifications)\n        is_primary = exercise_name in primary_movements\n        dim_flags = {dim: False for dim in dimensions}\n        \n        if is_primary:\n            selected_dims = random.sample(dimensions, 2)\n            for dim in selected_dims:\n                dim_flags[dim] = True\n        elif is_critical:\n            selected_dim = random.choice(dimensions)\n            dim_flags[selected_dim] = True\n        \n        # Historical and Current rows\n        exercises.append({\n            \"exercise_id\": exercise_id,\n            \"workout_id\": workout_id,\n            \"exercise_name\": exercise_name,\n            \"exercise_description\": exercise_desc,\n            \"critical_exercise_selection\": is_critical,\n            \"exercise_classification\": classification,\n            **dim_flags,\n            \"primary_movement\": is_primary,\n            \"current_row\": False,\n            \"from_date\": workout_start_date.strftime('%Y-%m-%d %H:%M:%S'),\n            \"to_date\": (workout_start_date + timedelta(days=random.randint(20, 40))).strftime('%Y-%m-%d %H:%M:%S'),\n            \"profiled_by\": instructor_name\n        })\n        exercises.append({\n            \"exercise_id\": exercise_id,\n            \"workout_id\": workout_id,\n            \"exercise_name\": exercise_name,\n            \"exercise_description\": exercise_desc,\n            \"critical_exercise_selection\": is_critical,\n            \"exercise_classification\": classification,\n            **dim_flags,\n            \"primary_movement\": is_primary,\n            \"current_row\": True,\n            \"from_date\": (workout_start_date + timedelta(days=random.randint(20, 40))).strftime('%Y-%m-%d %H:%M:%S'),\n            \"to_date\": \"9999-12-31 23:59:59\",\n            \"profiled_by\": instructor_name\n        })\n    \n    return exercises\n\n# Generate data for all workouts\nworkout_ids = range(1, 11)\nprimary_movements = [\"Squats\", \"Deadlifts\", \"Bench Press\"]\ninstructor_name = \"Automated_Ghost_Of_Jack_LaLanne\"\ndata = []\n\nfor workout_id in workout_ids:\n    data.extend(generate_exercise_data(\n        workout_id=workout_id,\n        num_exercises=random.randint(8, 10),\n        critical_range=random.randint(4, 6),\n        primary_movements=primary_movements,\n        instructor_name=instructor_name\n    ))\n\n# Convert to DataFrame\ndf = pd.DataFrame(data)\n\n# Display the DataFrame to verify\nprint(df.head())\n",
   "execution_count": null,
   "outputs": []
  },
  {
   "cell_type": "markdown",
   "id": "36a632c1-4e47-4b1c-b2c0-22f0ab66b732",
   "metadata": {
    "name": "cell3",
    "collapsed": false,
    "resultHeight": 89
   },
   "source": "## now we create a snowpark df out of this pandas dataframe"
  },
  {
   "cell_type": "code",
   "id": "3596f2bf-77f1-4d4d-b012-4e7ecf64c2d7",
   "metadata": {
    "language": "python",
    "name": "cell5",
    "collapsed": false,
    "resultHeight": 0
   },
   "outputs": [],
   "source": "\n\n#convert pandas df to snowpark df (so I can write this into the snowflake table)\nfrom snowflake.snowpark import Session, Row\nfrom snowflake.snowpark import types as T\nfrom snowflake.snowpark.context import get_active_session\nsession = get_active_session() \n\nschema = T.StructType([\n    T.StructField(\"exercise_id\", T.IntegerType()),\n    T.StructField(\"workout_id\", T.IntegerType()),\n    T.StructField(\"exercise_name\", T.StringType()),\n    T.StructField(\"exercise_description\", T.StringType()),\n    T.StructField(\"critical_exercise_selection\", T.BooleanType()),\n    T.StructField(\"exercise_classification\", T.StringType()),\n    T.StructField(\"strength\", T.BooleanType()),\n    T.StructField(\"endurance\", T.BooleanType()),\n    T.StructField(\"flexibility\", T.BooleanType()),\n    T.StructField(\"balance\", T.BooleanType()),\n    T.StructField(\"cardio\", T.BooleanType()),\n    T.StructField(\"power\", T.BooleanType()),\n    T.StructField(\"primary_movement\", T.BooleanType()),\n    T.StructField(\"current_row\", T.BooleanType()),\n    T.StructField(\"from_date\", T.StringType()),\n    T.StructField(\"to_date\", T.StringType()),\n    T.StructField(\"profiled_by\", T.StringType())\n])\n\n\n\n\nsp_df = session.create_dataframe(df, schema=schema)\n\n\n",
   "execution_count": null
  },
  {
   "cell_type": "markdown",
   "id": "3cefbf98-6f22-4758-ab51-c88cc78bdb48",
   "metadata": {
    "name": "cell8",
    "collapsed": false,
    "resultHeight": 60
   },
   "source": "## now we insert this snowpark df into the table."
  },
  {
   "cell_type": "code",
   "id": "caba8c66-5ff1-43b1-b4d1-8ed3c656ab79",
   "metadata": {
    "language": "python",
    "name": "cell4",
    "collapsed": false,
    "resultHeight": 0
   },
   "outputs": [],
   "source": "sp_df.write.mode(\"overwrite\").save_as_table(\"WORKOUT_DETAILS\")",
   "execution_count": null
  },
  {
   "cell_type": "code",
   "id": "7fcc67a1-76c6-4528-9449-b9e2edf00aac",
   "metadata": {
    "language": "sql",
    "name": "cell10",
    "resultHeight": 439
   },
   "outputs": [],
   "source": "select * from WORKOUT_DETAILS;",
   "execution_count": null
  }
 ]
}